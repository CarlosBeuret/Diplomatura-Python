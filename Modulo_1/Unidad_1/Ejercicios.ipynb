{
 "cells": [
  {
   "attachments": {},
   "cell_type": "markdown",
   "metadata": {},
   "source": [
    "**unidad 1**"
   ]
  },
  {
   "cell_type": "code",
   "execution_count": null,
   "metadata": {},
   "outputs": [],
   "source": [
    "import sys"
   ]
  },
  {
   "attachments": {},
   "cell_type": "markdown",
   "metadata": {},
   "source": [
    "Creo una variable."
   ]
  },
  {
   "cell_type": "code",
   "execution_count": 2,
   "metadata": {},
   "outputs": [],
   "source": [
    "mi_variable = \"hola\"\n"
   ]
  },
  {
   "attachments": {},
   "cell_type": "markdown",
   "metadata": {},
   "source": [
    "La imprimo por consola, tambien el tipo y lo comento."
   ]
  },
  {
   "cell_type": "code",
   "execution_count": 3,
   "metadata": {},
   "outputs": [
    {
     "name": "stdout",
     "output_type": "stream",
     "text": [
      "hola\n",
      "<class 'str'>\n"
     ]
    }
   ],
   "source": [
    "print(mi_variable)\n",
    "#Imprimo el tipo de la variable.\n",
    "\"\"\"Otra forma de comentar\"\"\"\n",
    "print(type(mi_variable))"
   ]
  },
  {
   "attachments": {},
   "cell_type": "markdown",
   "metadata": {},
   "source": [
    "Asignación dinámica."
   ]
  },
  {
   "cell_type": "code",
   "execution_count": 4,
   "metadata": {},
   "outputs": [
    {
     "name": "stdout",
     "output_type": "stream",
     "text": [
      "pera\n",
      "pera\n"
     ]
    }
   ],
   "source": [
    "#la variable2 apunta a lo mismo que la variable1. Apunta a pera no ha variable 1.\n",
    "variable1 = \"pera\"\n",
    "variable2 = variable1\n",
    "print(variable1)\n",
    "print(variable2)"
   ]
  },
  {
   "attachments": {},
   "cell_type": "markdown",
   "metadata": {},
   "source": [
    "Linters (encuentra error) y fixers (modifica error). Se instalan por consola."
   ]
  },
  {
   "cell_type": "code",
   "execution_count": null,
   "metadata": {},
   "outputs": [],
   "source": [
    "\"\"\"\n",
    "Linters\n",
    "\n",
    "pip install bandit\n",
    "pip install flake8\n",
    "pip install mypy\n",
    "pip install prospector\n",
    "pip install pycodestyle\n",
    "pip install pydocstyle\n",
    "pip install pylama\n",
    "pip install pylint\n",
    "\n",
    "Fixers\n",
    "\n",
    "pip install pytest\n",
    "pip install pre-commit\n",
    "pip install black\n",
    "\n",
    "\"\"\""
   ]
  },
  {
   "attachments": {},
   "cell_type": "markdown",
   "metadata": {},
   "source": [
    "sys"
   ]
  }
 ],
 "metadata": {
  "kernelspec": {
   "display_name": "env",
   "language": "python",
   "name": "python3"
  },
  "language_info": {
   "codemirror_mode": {
    "name": "ipython",
    "version": 3
   },
   "file_extension": ".py",
   "mimetype": "text/x-python",
   "name": "python",
   "nbconvert_exporter": "python",
   "pygments_lexer": "ipython3",
   "version": "3.10.9"
  },
  "orig_nbformat": 4
 },
 "nbformat": 4,
 "nbformat_minor": 2
}
