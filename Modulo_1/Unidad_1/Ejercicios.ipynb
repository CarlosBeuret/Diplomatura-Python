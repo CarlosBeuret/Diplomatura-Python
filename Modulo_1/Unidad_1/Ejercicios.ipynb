{
 "cells": [
  {
   "attachments": {},
   "cell_type": "markdown",
   "metadata": {},
   "source": [
    "**unidad 1**"
   ]
  },
  {
   "cell_type": "code",
   "execution_count": 6,
   "metadata": {},
   "outputs": [],
   "source": [
    "import sys\n",
    "import math"
   ]
  },
  {
   "attachments": {},
   "cell_type": "markdown",
   "metadata": {},
   "source": [
    "Creo una variable."
   ]
  },
  {
   "cell_type": "code",
   "execution_count": 2,
   "metadata": {},
   "outputs": [],
   "source": [
    "mi_variable = \"hola\"\n"
   ]
  },
  {
   "attachments": {},
   "cell_type": "markdown",
   "metadata": {},
   "source": [
    "La imprimo por consola, tambien el tipo y lo comento."
   ]
  },
  {
   "cell_type": "code",
   "execution_count": 3,
   "metadata": {},
   "outputs": [
    {
     "name": "stdout",
     "output_type": "stream",
     "text": [
      "hola\n",
      "<class 'str'>\n"
     ]
    }
   ],
   "source": [
    "print(mi_variable)\n",
    "#Imprimo el tipo de la variable.\n",
    "\"\"\"Otra forma de comentar\"\"\"\n",
    "print(type(mi_variable))"
   ]
  },
  {
   "attachments": {},
   "cell_type": "markdown",
   "metadata": {},
   "source": [
    "Asignación dinámica."
   ]
  },
  {
   "cell_type": "code",
   "execution_count": 4,
   "metadata": {},
   "outputs": [
    {
     "name": "stdout",
     "output_type": "stream",
     "text": [
      "pera\n",
      "pera\n"
     ]
    }
   ],
   "source": [
    "#la variable2 apunta a lo mismo que la variable1. Apunta a pera no ha variable 1.\n",
    "variable1 = \"pera\"\n",
    "variable2 = variable1\n",
    "print(variable1)\n",
    "print(variable2)"
   ]
  },
  {
   "attachments": {},
   "cell_type": "markdown",
   "metadata": {},
   "source": [
    "Linters (encuentra error) y fixers (modifica error). Se instalan por consola."
   ]
  },
  {
   "cell_type": "code",
   "execution_count": null,
   "metadata": {},
   "outputs": [],
   "source": [
    "\"\"\"\n",
    "Linters\n",
    "\n",
    "pip install bandit\n",
    "pip install flake8\n",
    "pip install mypy\n",
    "pip install prospector\n",
    "pip install pycodestyle\n",
    "pip install pydocstyle\n",
    "pip install pylama\n",
    "pip install pylint\n",
    "\n",
    "Fixers\n",
    "\n",
    "pip install pytest\n",
    "pip install pre-commit\n",
    "pip install black\n",
    "\n",
    "\"\"\""
   ]
  },
  {
   "attachments": {},
   "cell_type": "markdown",
   "metadata": {},
   "source": [
    "Ejercicios\n"
   ]
  },
  {
   "attachments": {},
   "cell_type": "markdown",
   "metadata": {},
   "source": [
    "Ejercicios:\n",
    "Ejercicio 1:\n",
    "Cree un programa que tome tres valores por consola multiplique el primero por el segundo\n",
    "y le sume el tercero. Presente el resultado en la terminal\n"
   ]
  },
  {
   "cell_type": "code",
   "execution_count": 4,
   "metadata": {},
   "outputs": [
    {
     "name": "stdout",
     "output_type": "stream",
     "text": [
      "30\n"
     ]
    }
   ],
   "source": [
    "valor_1 = int(input(\"Ingrese un valor por consola: \"))\n",
    "valor_2 = int(input(\"Ingrese el segundo valor por consola: \"))\n",
    "valor_3 = int(input(\"Ingrese el tercer valor por consola: \"))\n",
    "\n",
    "resultado = valor_1*valor_2\n",
    "resultado =resultado + valor_3\n",
    "print(resultado)"
   ]
  },
  {
   "attachments": {},
   "cell_type": "markdown",
   "metadata": {},
   "source": [
    "Ejercicio 2:\n",
    "Cree un programa que incorpore el módulo sys, al cual desde la terminal se le puedan\n",
    "pasar tres parámetros. El programa debe tomar los parámetros e indicar en la terminal si\n",
    "son múltiplos de dos. "
   ]
  },
  {
   "cell_type": "code",
   "execution_count": null,
   "metadata": {},
   "outputs": [],
   "source": []
  },
  {
   "attachments": {},
   "cell_type": "markdown",
   "metadata": {},
   "source": [
    "Ejercicio 3:\n",
    "Escriba un programa que solicite el\n",
    "perímetro. Presente el resultado en la terminal del editor.\n",
    "Utilice la siguiente fórmula:\n",
    "L = 2 · π · r\n",
    "L = Longitud de perímetro\n",
    "π = Número pí igual a 3.1416\n",
    "r = Radio"
   ]
  },
  {
   "cell_type": "code",
   "execution_count": 7,
   "metadata": {},
   "outputs": [
    {
     "name": "stdout",
     "output_type": "stream",
     "text": [
      "el perimetro es 31.41592653589793\n"
     ]
    }
   ],
   "source": [
    "radio =  int(input(\"Ingrese el radio por consola: \"))\n",
    "perimetro = 2 * math.pi * radio \n",
    "print(\"el perimetro es\", perimetro)"
   ]
  },
  {
   "attachments": {},
   "cell_type": "markdown",
   "metadata": {},
   "source": [
    "Ejercicio 4:\n",
    "Escriba un programa que solicite el radio de una circunferencia y permita calcular el\n",
    "área. Presente el resultado en la terminal del editor.\n",
    "Utilice la siguiente fórmula:\n",
    "𝐴 = 𝜋. 𝑟ଶ\n",
    "A = Área \n"
   ]
  },
  {
   "cell_type": "code",
   "execution_count": 8,
   "metadata": {},
   "outputs": [
    {
     "name": "stdout",
     "output_type": "stream",
     "text": [
      "el area es 28.274333882308138\n"
     ]
    }
   ],
   "source": [
    "radio =  int(input(\"Ingrese el radio por consola: \"))\n",
    "radio_cuadrado = radio ** 2 \n",
    "area =  math.pi * radio_cuadrado\n",
    "print(\"el area es\", area)"
   ]
  }
 ],
 "metadata": {
  "kernelspec": {
   "display_name": "env",
   "language": "python",
   "name": "python3"
  },
  "language_info": {
   "codemirror_mode": {
    "name": "ipython",
    "version": 3
   },
   "file_extension": ".py",
   "mimetype": "text/x-python",
   "name": "python",
   "nbconvert_exporter": "python",
   "pygments_lexer": "ipython3",
   "version": "3.10.9"
  },
  "orig_nbformat": 4
 },
 "nbformat": 4,
 "nbformat_minor": 2
}
