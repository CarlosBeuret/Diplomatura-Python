{
 "cells": [
  {
   "cell_type": "code",
   "execution_count": 6,
   "metadata": {},
   "outputs": [
    {
     "name": "stdout",
     "output_type": "stream",
     "text": [
      "30\n",
      "27\n",
      "24\n",
      "21\n",
      "18\n",
      "15\n",
      "12\n",
      "9\n",
      "6\n",
      "3\n"
     ]
    }
   ],
   "source": [
    "def reverse(x):\n",
    "    for i in range(x, 0, -1):\n",
    "        print(i)\n",
    "\n",
    "edad= int(input(\"Por favor ingrese edad: \"))\n",
    "reverse(edad)"
   ]
  },
  {
   "cell_type": "code",
   "execution_count": null,
   "metadata": {},
   "outputs": [],
   "source": [
    "def ordenamiento(x:list):\n",
    "    cambio = True\n",
    "    while cambio:\n",
    "        cambio = False\n",
    "        for i in range(len(x)-1):\n",
    "            if x[i] > x[i+1]:\n",
    "                x[i],x[i+1]=x[i+1],x[i]\n",
    "                cambio = True\n",
    "    return x\n",
    "\n",
    "lista = [3,44,21,78,5,56,9]\n",
    "\n",
    "print(ordenamiento(lista))\n",
    "\n",
    "#lista.sort()"
   ]
  },
  {
   "cell_type": "code",
   "execution_count": 13,
   "metadata": {},
   "outputs": [
    {
     "data": {
      "text/plain": [
       "True"
      ]
     },
     "execution_count": 13,
     "metadata": {},
     "output_type": "execute_result"
    }
   ],
   "source": [
    "x = []\n",
    "y = {}\n",
    "e = 1\n",
    "isinstance(e, int)"
   ]
  },
  {
   "cell_type": "code",
   "execution_count": 15,
   "metadata": {},
   "outputs": [
    {
     "name": "stdout",
     "output_type": "stream",
     "text": [
      " 1\n",
      " 2\n",
      " 3\n",
      "\t 5\n",
      "\t 6\n",
      "\t 7\n",
      "\t\t 7\n",
      "\t\t 8\n",
      "\t\t 9\n"
     ]
    }
   ],
   "source": [
    "lista = [\n",
    "    \"elemento1n1\",\n",
    "    \"elemento2n1\",\n",
    "    \"elemento3n1\",\n",
    "    [\n",
    "        \"elemento1n2\",\n",
    "        \"elemento2n2\",\n",
    "        \"elemento3n2\",\n",
    "        [\n",
    "            \"elemento1n3\",\n",
    "            \"elemento2n3\",\n",
    "            \"elemento3n3\",\n",
    "        ],\n",
    "    ],\n",
    "]\n",
    "def recorre_lista(item =[1,2,3,[5,6,7,[7,8,9]]], nivel= 0):\n",
    "    for x in item:\n",
    "        if isinstance(x, list):\n",
    "            recorre_lista(x, nivel = nivel + 1)\n",
    "        else:\n",
    "            print(\"\\t\" * nivel, x)\n",
    "recorre_lista()"
   ]
  }
 ],
 "metadata": {
  "kernelspec": {
   "display_name": ".venv",
   "language": "python",
   "name": "python3"
  },
  "language_info": {
   "codemirror_mode": {
    "name": "ipython",
    "version": 3
   },
   "file_extension": ".py",
   "mimetype": "text/x-python",
   "name": "python",
   "nbconvert_exporter": "python",
   "pygments_lexer": "ipython3",
   "version": "3.10.9"
  },
  "orig_nbformat": 4
 },
 "nbformat": 4,
 "nbformat_minor": 2
}
