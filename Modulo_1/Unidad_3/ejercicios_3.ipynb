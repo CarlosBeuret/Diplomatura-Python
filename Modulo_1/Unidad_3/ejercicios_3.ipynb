{
 "cells": [
  {
   "attachments": {},
   "cell_type": "markdown",
   "metadata": {},
   "source": [
    "**UNIDAD 3**"
   ]
  },
  {
   "attachments": {},
   "cell_type": "markdown",
   "metadata": {},
   "source": [
    "Ejercicio 1\n",
    "Tome el ejercicio de cálculo de números pares e impares de la unidad 2 y agréguele un bucle al código de forma de simplificarlo.\n"
   ]
  },
  {
   "cell_type": "code",
   "execution_count": 2,
   "metadata": {},
   "outputs": [
    {
     "name": "stdout",
     "output_type": "stream",
     "text": [
      "el numero es impar\n",
      "el numero es par\n"
     ]
    }
   ],
   "source": [
    "validador = 1\n",
    "while validador == 1 :\n",
    "    validador = int(input(\"Si desea ingresar un numero presione 1 y si desea terminar presione 2 : \"))\n",
    "    if validador != 1:\n",
    "        print(\"Gracias por usasr nuestro validador.\")\n",
    "        break\n",
    "    else:\n",
    "        variable =  int(input(\"Por favor ingrese un número: \"))\n",
    "        if variable%2 == 0:\n",
    "            print(\"el numero es par.\")\n",
    "        else:\n",
    "            print(\"el numero es impar.\")"
   ]
  },
  {
   "attachments": {},
   "cell_type": "markdown",
   "metadata": {},
   "source": [
    "Ejercicio 2\n",
    "Escriba un programa que consulte al usuario por una oración y comente al usuario cuantas veces aparece la letra “a”. \n",
    "\n",
    "\n"
   ]
  },
  {
   "cell_type": "code",
   "execution_count": 13,
   "metadata": {},
   "outputs": [
    {
     "name": "stdout",
     "output_type": "stream",
     "text": [
      "En la frase la letra a aparece 5 veces.\n"
     ]
    }
   ],
   "source": [
    "frase = input(\"Por favor ingrese una oración: \")\n",
    "contador = 0\n",
    "for x in range(len(frase)):\n",
    "    \n",
    "\n",
    "    if frase[x] == \"a\":\n",
    "        contador = contador +1\n",
    "print(f\"En la frase la letra a aparece {contador} veces.\")        "
   ]
  },
  {
   "attachments": {},
   "cell_type": "markdown",
   "metadata": {},
   "source": [
    "Ejercicio 3\n",
    "Escriba un programa que consulte al usuario por una oración y comente al usuario cuantas veces aparecen todas las vocales considerando minúsculas, mayúsculas y acentos.  \n"
   ]
  },
  {
   "cell_type": "code",
   "execution_count": 11,
   "metadata": {},
   "outputs": [
    {
     "name": "stdout",
     "output_type": "stream",
     "text": [
      "En la frase la letra a aparece 2 veces de las cuales 1 son mayusculas, la letra e aparece 2 veces de las cuales 1 son mayusculas, la letra i aparece 2 vecesde las cuales 1 son mayusculas, la letra o aparece 2 veces de las cuales 1 son mayusculas y la letra u aparece 2 veces de las cuales 1 son mayusculas.\n",
      "1\n"
     ]
    }
   ],
   "source": [
    "frase = input(\"Por favor ingrese una oración: \")\n",
    "a = e = i = o = u = \"\"\n",
    "am = em = im = om = um = 0\n",
    "for x in range(len(frase)):\n",
    "    \n",
    "\n",
    "    if frase[x] == \"a\" or frase[x]== \"A\" :\n",
    "        a= a + frase[x]\n",
    "        if frase[x].isupper() == True:\n",
    "            am += 1\n",
    "    elif frase[x] == \"e\"or frase[x]== \"E\" :\n",
    "        e= e +  frase[x]\n",
    "        if frase[x].isupper() == True:\n",
    "            em += 1  \n",
    "    elif frase[x] == \"i\"or frase[x]== \"I\" :\n",
    "        i= i +  frase[x] \n",
    "        if frase[x].isupper() == True:\n",
    "            im += 1  \n",
    "    elif frase[x] == \"o\" or frase[x]== \"O\" :\n",
    "        o= o +  frase[x]\n",
    "        if frase[x].isupper() == True:\n",
    "            om += 1   \n",
    "    elif frase[x] == \"u\" or frase[x]== \"U\" :\n",
    "        u= u +  frase[x]\n",
    "        if frase[x].isupper() == True:\n",
    "            um += 1    \n",
    "        \n",
    "print(f\"En la frase la letra a aparece {len(a)} veces de las cuales {am} son mayusculas, la letra e aparece {len(e)} veces de las cuales {em} son mayusculas, la letra i aparece {len(i)} vecesde las cuales {im} son mayusculas, la letra o aparece {len(o)} veces de las cuales {om} son mayusculas y la letra u aparece {len(u)} veces de las cuales {um} son mayusculas.\") \n",
    "print(am)     "
   ]
  },
  {
   "attachments": {},
   "cell_type": "markdown",
   "metadata": {},
   "source": [
    "Ejercicio 4\n",
    "Escriba un programa que solicite la edad de la persona e imprima todos los años que la persona ha cumplido. \n"
   ]
  },
  {
   "cell_type": "code",
   "execution_count": null,
   "metadata": {},
   "outputs": [],
   "source": [
    "edad = int(input(\"Por favor ingrese su edad: \"))\n",
    "\n",
    "for i in range(edad):\n",
    "    print(i+1)"
   ]
  },
  {
   "attachments": {},
   "cell_type": "markdown",
   "metadata": {},
   "source": [
    "Ejercicio 5\n",
    "Suponga que tiene una verdulería y carga la cantidad y el precio de lo comprado por un cliente. Realice un programa que tome de a uno la cantidad y el precio comprado por el cliente y al finalizar la compra retorne el monto total gastado. \n"
   ]
  },
  {
   "cell_type": "code",
   "execution_count": 12,
   "metadata": {},
   "outputs": [
    {
     "name": "stdout",
     "output_type": "stream",
     "text": [
      "Gracias.\n",
      "Su compra total es de 69\n"
     ]
    }
   ],
   "source": [
    "validador = 1\n",
    "variable = []\n",
    "while validador == 1 :\n",
    "    validador = int(input(\"Si desea ingresar un porducto presione 1 y si desea terminar presione 2 : \"))\n",
    "    if validador != 1:\n",
    "        print(\"Gracias.\")\n",
    "        break\n",
    "    else:\n",
    "        \n",
    "        variable.append( int(input(\"Por favor ingrese la cantidad: \")))\n",
    "        variable.append( int(input(\"Por favor ingrese el precio: \")))\n",
    "variable2 = 0\n",
    "\n",
    "for i in range(0,len(variable),2):\n",
    "      variable2 += variable[i] * variable[i+1] \n",
    "print(f\"Su compra total es de {variable2}\")      "
   ]
  },
  {
   "attachments": {},
   "cell_type": "markdown",
   "metadata": {},
   "source": [
    "Ejercicio 6\n",
    "A partir del ejercicio 5 cree un programa que vaya agregando en una lista las compras realizadas.\n"
   ]
  },
  {
   "attachments": {},
   "cell_type": "markdown",
   "metadata": {},
   "source": [
    "Ejercicio 7\n",
    "A partir del ejercicio 5 cree un programa que vaya agregando en un diccionario las compras realizadas.\n"
   ]
  },
  {
   "cell_type": "code",
   "execution_count": 39,
   "metadata": {},
   "outputs": [
    {
     "name": "stdout",
     "output_type": "stream",
     "text": [
      "Gracias.\n",
      "[15]\n",
      "[15, 18]\n",
      "15\n",
      "33\n",
      "Su compra total es de 33\n"
     ]
    }
   ],
   "source": [
    "validador = 1\n",
    "variable = {}\n",
    "key = -1\n",
    "variable= {}\n",
    "while validador == 1 :\n",
    " \n",
    "   \n",
    "   \n",
    "    validador = int(input(\"Si desea ingresar un porducto presione 1 y si desea terminar presione 2 : \"))\n",
    "    if validador != 1:\n",
    "        print(\"Gracias.\")\n",
    "        break\n",
    "    else:  \n",
    "        key += 1\n",
    "        value = []\n",
    "        value.append( int(input(\"Por favor ingrese la cantidad: \")))\n",
    "        value.append( int(input(\"Por favor ingrese el precio: \")))\n",
    "        variable.setdefault(key,value)\n",
    "       \n",
    "\n",
    "variable2 = 0\n",
    "totales = []\n",
    "total = 0\n",
    "for i in range(len(variable)):\n",
    "        suma = variable[i] \n",
    "        totales.append(suma[0] * suma[1]) \n",
    "for i in range(len(totales)):\n",
    "    total += totales[i]\n",
    "    print(total)\n",
    "print(f\"Su compra total es de {total}\")  "
   ]
  },
  {
   "attachments": {},
   "cell_type": "markdown",
   "metadata": {},
   "source": [
    "Ejercicio8\n",
    "A partir del ejerció 6 cree un programa con 4 funciones:\n",
    "alta() para dar de alta la nueva compra\n",
    "baja() para dar de baja una compra\n",
    "consulta() para consultar por todas las compras realizadas hasta el momento\n",
    "modificar() para modificar una compra realizada\n"
   ]
  },
  {
   "cell_type": "code",
   "execution_count": 8,
   "metadata": {},
   "outputs": [
    {
     "name": "stdout",
     "output_type": "stream",
     "text": [
      "Su compra fue agregada satisfactoriamente.\n",
      "Su compra fue agregada satisfactoriamente.\n",
      "Su compra fue agregada satisfactoriamente.\n",
      "Su compra 1 es de [4, 5]\n",
      "Su compra 2 es de [2, 3]\n",
      "Su compra 3 es de [5, 6]\n",
      "y su compra total es de 56\n",
      "Su compra 1 es de [2, 3]\n",
      "Su compra 2 es de [5, 6]\n",
      "y su compra total es de 36\n",
      "Gracias.\n"
     ]
    }
   ],
   "source": [
    "validador = 1\n",
    "variable = []\n",
    "valor_total = 0\n",
    "def agregar_compra():\n",
    "    variable1= []\n",
    "    variable1.append(int(input(\"Por favor ingrese la cantidad: \")))\n",
    "    variable1.append(int(input(\"Por favor ingrese el precio: \")))\n",
    "    variable.append(variable1)\n",
    "    print(\"Su compra fue agregada satisfactoriamente.\")\n",
    "\n",
    "def borrar_compra(x):\n",
    "    variable.pop(x-1)\n",
    "\n",
    "def consulta_compra(x,j):\n",
    "    for i in range(len(x)):\n",
    "        print(f\"Su compra {i+1} es de {x[i]}\")\n",
    "    for i in range(len(x)):\n",
    "        \n",
    "        valor_compra = x[i]\n",
    "       \n",
    "        j += valor_compra[0] * valor_compra[1]\n",
    "    print(f\"y su compra total es de {j}\")\n",
    "\n",
    "while True:\n",
    "    validador = int(\n",
    "        input(\n",
    "             \"Si desea ingresar un porducto presione 1, si desea dar de baja un producto presione 2, si desea consultar las compras hasta el momento presione 3  y si desea terminar presione 4: \"\n",
    "        )\n",
    "    )\n",
    "    if validador == 4:\n",
    "        print(\"Gracias.\")\n",
    "        break\n",
    "    elif validador == 1:\n",
    "        agregar_compra()\n",
    "\n",
    "    elif validador == 2:\n",
    "        borrar_compra(int(input(\"Diga el numero de compra que desea borrar: \")))\n",
    "    elif validador == 3:\n",
    "        consulta_compra(variable, valor_total)\n",
    "    else:\n",
    "        print(\"El valor ingresado no es valido.\")\n",
    "\n",
    "\n"
   ]
  },
  {
   "attachments": {},
   "cell_type": "markdown",
   "metadata": {},
   "source": [
    "Ejercicio9\n",
    "A partir del ejerció 7 cree un programa con 4 funciones:\n",
    "alta() para dar de alta la nueva compra\n",
    "baja() para dar de baja una compra\n",
    "consulta() para consultar por todas las compras realizadas hasta el momento\n",
    "modificar() para modificar una compra realizada\n"
   ]
  },
  {
   "cell_type": "code",
   "execution_count": 53,
   "metadata": {},
   "outputs": [],
   "source": [
    "variable = {}\n",
    "key= -1"
   ]
  },
  {
   "cell_type": "code",
   "execution_count": 54,
   "metadata": {},
   "outputs": [
    {
     "name": "stdout",
     "output_type": "stream",
     "text": [
      "Su compra fue agregada satisfactoriamente.\n",
      "Su compra fue agregada satisfactoriamente.\n",
      "Su compra fue agregada satisfactoriamente.\n",
      "Su compra n° 1 fue de 3 unidades a un precio 5 por un total de $15.\n",
      "Su compra n° 2 fue de 4 unidades a un precio 5 por un total de $20.\n",
      "Su compra n° 3 fue de 5 unidades a un precio 4 por un total de $20.\n",
      "y su compra total es de 55\n",
      "debe ser un numero de los siguientes dict_keys([0, 1, 2])\n",
      "Su compra n° 2 fue de 4 unidades a un precio 5 por un total de $20.\n",
      "Su compra n° 3 fue de 5 unidades a un precio 4 por un total de $20.\n",
      "y su compra total es de 40\n",
      "Gracias.\n",
      "{1: [4, 5], 2: [5, 4]}\n"
     ]
    }
   ],
   "source": [
    "\n",
    "\n",
    "\n",
    "compra_total = 0\n",
    "def agregar_compra(x):\n",
    "    x += +1\n",
    "    \n",
    "    value = []\n",
    "    value.append( int(input(\"Por favor ingrese la cantidad: \")))\n",
    "    value.append( int(input(\"Por favor ingrese el precio: \")))\n",
    "    variable.setdefault(x,value)\n",
    "    print(\"Su compra fue agregada satisfactoriamente.\")\n",
    "    return x\n",
    "def borrar_compra(x,j):\n",
    "    if x in j:\n",
    "        variable.pop(x-1)\n",
    "       \n",
    "    else:    \n",
    "        print(f\"debe ser un numero de los siguientes {j}\")\n",
    "        \n",
    "def consulta_compra(x,j):\n",
    "    keys = x.keys()\n",
    "    for i in keys:\n",
    "        compra = x[i] \n",
    "        \n",
    "        j += compra[0] * compra[1] \n",
    "        print(f\"Su compra n° {i+1} fue de {compra[0]} unidades a un precio {compra[1]} por un total de ${ compra[0] * compra[1]}.\")\n",
    "    print(f\"y su compra total es de {j}\")\n",
    " \n",
    "\n",
    "while True:\n",
    "    validador = int(\n",
    "        input(\n",
    "             \"Si desea ingresar un porducto presione 1, si desea dar de baja un producto presione 2, si desea consultar las compras hasta el momento presione 3  y si desea terminar presione 4: \"\n",
    "        )\n",
    "    )\n",
    "    if validador == 4:\n",
    "        print(\"Gracias.\")\n",
    "        break\n",
    "    elif validador == 1:\n",
    "        key = agregar_compra(key)\n",
    "\n",
    "    elif validador == 2:\n",
    "        key = borrar_compra(int(input(\"Diga el numero de compra que desea borrar: \")),variable.keys())\n",
    "        \n",
    "    elif validador == 3:\n",
    "        consulta_compra(variable, compra_total)\n",
    "    else:\n",
    "        print(\"El valor ingresado no es valido.\")\n",
    "\n",
    "print(variable)\n",
    "\n"
   ]
  },
  {
   "attachments": {},
   "cell_type": "markdown",
   "metadata": {},
   "source": [
    "Pregunta: Considera que es más fácil guardar la información en listas o en diccionarios\n",
    "Ejercicio 10\n",
    "Escriba un programa que guarde en una variable una contraseña y consulte al usuario por la contraseña hasta que esta sea correcta. El programa debe informar al usuario si la contraseña fue correcta o no.  \n"
   ]
  },
  {
   "cell_type": "code",
   "execution_count": 55,
   "metadata": {},
   "outputs": [],
   "source": [
    "usuario = input(\"por favor ingrese el nombre de usuario: \")\n",
    "contrasena = input(\"por favor ingrese la contraseña: \")\n",
    "\n",
    "dic = {usuario: contrasena}\n",
    "\n",
    "while True:\n",
    "    con_ingr = input(\"Por favor ingrese la contraseña: \")\n",
    "\n",
    "    if dic.get(usuario) == con_ingr:\n",
    "        print(\"la contraseña es correcta\")\n",
    "        break\n",
    "    else:\n",
    "        print(\"la contraseña es incorrecta\")\n",
    "        resp = input(\"Desea vovel a intentarlo si/no :\") \n",
    "        if resp == \"no\":\n",
    "            break\n",
    "        "
   ]
  }
 ],
 "metadata": {
  "kernelspec": {
   "display_name": ".venv",
   "language": "python",
   "name": "python3"
  },
  "language_info": {
   "codemirror_mode": {
    "name": "ipython",
    "version": 3
   },
   "file_extension": ".py",
   "mimetype": "text/x-python",
   "name": "python",
   "nbconvert_exporter": "python",
   "pygments_lexer": "ipython3",
   "version": "3.10.9"
  },
  "orig_nbformat": 4
 },
 "nbformat": 4,
 "nbformat_minor": 2
}
