{
 "cells": [
  {
   "attachments": {},
   "cell_type": "markdown",
   "metadata": {},
   "source": [
    "***UNIDAD 4***\n"
   ]
  },
  {
   "attachments": {},
   "cell_type": "markdown",
   "metadata": {},
   "source": [
    "***Tkinter***"
   ]
  },
  {
   "cell_type": "code",
   "execution_count": 3,
   "metadata": {},
   "outputs": [],
   "source": [
    "from tkinter import *  # En la parte inicial del curso se importa usando *, aunque no sea una practica recoemndada. Mas adelante se mejora este aspecto.\n",
    "from tkinter import ttk\n",
    "\n",
    "from tkinter import *\n",
    "from tkinter.messagebox import *"
   ]
  },
  {
   "attachments": {},
   "cell_type": "markdown",
   "metadata": {},
   "source": [
    "Practica tkinter: nociones basicas."
   ]
  },
  {
   "cell_type": "code",
   "execution_count": 13,
   "metadata": {},
   "outputs": [],
   "source": [
    "master = Tk() # Ventana principal, solo puede haber una.\n",
    "\n",
    "\n",
    "e = Entry(master)\n",
    "e.pack()\n",
    "\n",
    "a = 4\n",
    "b = 5\n",
    "c = a +b\n",
    "d = \"Mi resultado es: \" + str(c)\n",
    "\n",
    "\n",
    "var = StringVar() #IntVar() para enteros.\n",
    "e.config(textvariable=var)\n",
    "var.set(d)\n",
    "master.mainloop()"
   ]
  },
  {
   "attachments": {},
   "cell_type": "markdown",
   "metadata": {},
   "source": [
    "Maquetación."
   ]
  },
  {
   "cell_type": "code",
   "execution_count": 25,
   "metadata": {},
   "outputs": [
    {
     "name": "stdout",
     "output_type": "stream",
     "text": [
      "hola\n",
      "hola\n",
      "hola\n"
     ]
    }
   ],
   "source": [
    "master = Tk()\n",
    "\n",
    "#titulos.\n",
    "el_id = Label(master, text = \"id\", )\n",
    "el_id.grid(row=0, column= 0, sticky= W) # sticky: acomoda el id segun la orientacion solicitada.\n",
    "nombre = Label(master, text = \"nombre \")\n",
    "nombre.grid(row=1, column= 0)\n",
    "\n",
    "#grila de entrada.\n",
    "entry_id = Entry(master)\n",
    "entry_id.grid(row=0, column= 1)\n",
    "entry_nombre = Entry(master)\n",
    "entry_nombre.grid(row=1, column= 1)\n",
    "\n",
    "def funcion():\n",
    "    print(\"hola\")\n",
    "\n",
    "#botones\n",
    "boton_guardar = Button(master, text=\"Guardar\", command=funcion) # command: permite al boton lanzar una rutina.\n",
    "boton_guardar.grid(row=2, column=1)\n",
    "\n",
    "master.mainloop()"
   ]
  },
  {
   "attachments": {},
   "cell_type": "markdown",
   "metadata": {},
   "source": [
    "Treeview"
   ]
  },
  {
   "cell_type": "code",
   "execution_count": 28,
   "metadata": {},
   "outputs": [
    {
     "name": "stdout",
     "output_type": "stream",
     "text": [
      "\n"
     ]
    },
    {
     "name": "stderr",
     "output_type": "stream",
     "text": [
      "Exception in Tkinter callback\n",
      "Traceback (most recent call last):\n",
      "  File \"C:\\Users\\guill\\AppData\\Local\\Programs\\Python\\Python310\\lib\\tkinter\\__init__.py\", line 1921, in __call__\n",
      "    return self.func(*args)\n",
      "  File \"C:\\Users\\guill\\AppData\\Local\\Temp\\ipykernel_17124\\4059659757.py\", line 27, in borrar\n",
      "    tree.delete(item)\n",
      "  File \"C:\\Users\\guill\\AppData\\Local\\Programs\\Python\\Python310\\lib\\tkinter\\ttk.py\", line 1246, in delete\n",
      "    self.tk.call(self._w, \"delete\", items)\n",
      "_tkinter.TclError: Cannot delete root item\n"
     ]
    },
    {
     "name": "stdout",
     "output_type": "stream",
     "text": [
      "I002\n",
      "I003\n"
     ]
    }
   ],
   "source": [
    "mi_id = 0\n",
    "\n",
    "master = Tk()\n",
    "\n",
    "var_nombre = StringVar()\n",
    "var_apellido = StringVar()\n",
    "\n",
    "nombre = Label(master, text = \"Nombre \")\n",
    "nombre.grid(row=1, column= 0, sticky= W)\n",
    "apellido = Label(master, text = \"Apellido\", )\n",
    "apellido.grid(row=0, column= 0, sticky= W) \n",
    "\n",
    "entry_nombre = Entry(master, textvariable= var_nombre, width= 30) #textvariable: asociamos el campo de entrada con la variable que definimos antes.\n",
    "entry_nombre.grid(row=0, column= 1)\n",
    "entry_apellido = Entry(master, textvariable= var_apellido, width= 30) #width: ancho del campo de entrada.\n",
    "entry_apellido.grid(row=1, column= 1)\n",
    "\n",
    "def guardar():\n",
    "    global mi_id\n",
    "    mi_id += 1\n",
    "    tree.insert(\"\",\"end\", text= str(mi_id), values=(var_nombre.get(), var_apellido.get()))\n",
    "\n",
    "def borrar():\n",
    "    global mi_id\n",
    "    item = tree.focus()\n",
    "    print(item)\n",
    "    tree.delete(item)\n",
    "   \n",
    "\n",
    "tree = ttk.Treeview(master)\n",
    "tree[\"columns\"] = (\"col1\", \"col2\", \"col3\")\n",
    "tree.column(\"#0\", width= 30, minwidth=50, anchor=W)\n",
    "tree.column(\"col1\", width= 80, minwidth=80, anchor=W)\n",
    "tree.column(\"col2\", width= 80, minwidth=80, anchor=W)\n",
    "tree.column(\"col3\", width= 100, minwidth=100, anchor=W)\n",
    "tree.grid(column=0, row=4, columnspan=4)\n",
    " \n",
    "\n",
    "boton_guardar = Button(master, text=\"Guardar\", command= guardar) \n",
    "boton_guardar.grid(row=2, column=0)\n",
    "\n",
    "\n",
    "boton_borrar = Button(master, text=\"Borrar\", command= borrar) \n",
    "boton_borrar.grid(row=2, column=1)\n",
    "\n",
    "master.mainloop()"
   ]
  },
  {
   "attachments": {},
   "cell_type": "markdown",
   "metadata": {},
   "source": [
    "Widget. Elementos de la interfaz grafica qeu podemos ver y usar."
   ]
  },
  {
   "cell_type": "code",
   "execution_count": 7,
   "metadata": {},
   "outputs": [],
   "source": [
    "\n",
    "\n",
    "master = Tk()\n",
    "\n",
    "\n",
    "def funcion_e():\n",
    "    showerror(\"Título de mensaje de error\", \"Contenido del mensaje\")\n",
    "\n",
    "\n",
    "def funcion_s():\n",
    "    if askyesno(\"Título de la consulta de verificación\", \"Contenido de la consulta\"):\n",
    "        showinfo(\"Si\", \"Mensaje de información\")\n",
    "    else:\n",
    "        showinfo(\"No\", \"Esta a punto de salir\")\n",
    "\n",
    "\n",
    "boton_e = Button(master, text=\"Error\", command=funcion_e)\n",
    "boton_e.grid(row=0, column=1)\n",
    "\n",
    "boton_s = Button(master, text=\"Show\", command=funcion_s)\n",
    "boton_s.grid(row=2, column=1)\n",
    "\n",
    "master.mainloop()"
   ]
  },
  {
   "attachments": {},
   "cell_type": "markdown",
   "metadata": {},
   "source": [
    "Menu.\n"
   ]
  },
  {
   "cell_type": "code",
   "execution_count": 11,
   "metadata": {},
   "outputs": [],
   "source": [
    "master = Tk()\n",
    "\n",
    "def saludo():\n",
    "    print(\"hola\")\n",
    "\n",
    "menubar = Menu(master)\n",
    "\n",
    "menu_archivo = Menu(menubar, tearoff= 0)\n",
    "menu_archivo.add_command(label= \"Abrir\", command= saludo) # elemento\n",
    "menu_archivo.add_command(label= \"Guardar\", command= saludo) # elemento\n",
    "menu_archivo.add_separator() # separa\n",
    "menu_archivo.add_command(label=\"Salir\",command=master.quit)\n",
    "menubar.add_cascade(label= \"Archivo\", menu= menu_archivo)\n",
    "master.config(menu= menubar)\n",
    "\n",
    "menu_edicion = Menu(menubar, tearoff= 0)\n",
    "menu_edicion.add_command(label= \"Abrir\", command= saludo) \n",
    "menu_edicion.add_command(label= \"Guardar\", command= saludo)\n",
    "menu_edicion.add_separator()\n",
    "menu_edicion.add_command(label=\"Salir\",command=master.quit)\n",
    "menubar.add_cascade(label= \"Editar\", menu= menu_edicion)\n",
    "\n",
    "sub_menu = Menu(menu_edicion, tearoff=True)\n",
    "sub_menu.add_command(label= \"Rotar\", command= saludo) # elemento\n",
    "sub_menu.add_command(label= \"Cambiar color\", command= saludo) # elemento\n",
    "menubar.add_cascade(label= \"Otros\", menu= sub_menu)\n",
    "\n",
    "\n",
    "master.mainloop()"
   ]
  }
 ],
 "metadata": {
  "kernelspec": {
   "display_name": ".venv",
   "language": "python",
   "name": "python3"
  },
  "language_info": {
   "codemirror_mode": {
    "name": "ipython",
    "version": 3
   },
   "file_extension": ".py",
   "mimetype": "text/x-python",
   "name": "python",
   "nbconvert_exporter": "python",
   "pygments_lexer": "ipython3",
   "version": "3.10.9"
  },
  "orig_nbformat": 4
 },
 "nbformat": 4,
 "nbformat_minor": 2
}
