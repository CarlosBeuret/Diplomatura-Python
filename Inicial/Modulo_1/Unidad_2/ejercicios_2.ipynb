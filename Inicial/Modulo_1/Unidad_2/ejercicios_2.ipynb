{
 "cells": [
  {
   "attachments": {},
   "cell_type": "markdown",
   "metadata": {},
   "source": [
    "**Ejercicios de la unidad 2**"
   ]
  },
  {
   "attachments": {},
   "cell_type": "markdown",
   "metadata": {},
   "source": [
    "Ejercicio 2\n",
    "Cree una lista de frutas de 2 elementos, y realice un programa que muestre una oración\n",
    "conteniendo los dos elementos de la lista concatenándolos con texto para formar una\n",
    "oración con sentido. Presente el resultado en la terminal del editor."
   ]
  },
  {
   "cell_type": "code",
   "execution_count": 1,
   "metadata": {},
   "outputs": [],
   "source": [
    "lista_frutas = [\"pomelo\",  \"banana\"]"
   ]
  },
  {
   "cell_type": "code",
   "execution_count": 2,
   "metadata": {},
   "outputs": [],
   "source": [
    "def frase_frutas(lista):\n",
    "    print(f\"El postre tiene {lista_frutas[0]} y {lista_frutas[1]}\")"
   ]
  },
  {
   "cell_type": "code",
   "execution_count": 3,
   "metadata": {},
   "outputs": [
    {
     "name": "stdout",
     "output_type": "stream",
     "text": [
      "El postre tiene pomelo y banana\n"
     ]
    }
   ],
   "source": [
    "frase_frutas(lista_frutas)"
   ]
  },
  {
   "attachments": {},
   "cell_type": "markdown",
   "metadata": {},
   "source": [
    "Ejercicio 3\n",
    "Tome dos valores por consola, y guarde en una lista:\n",
    "[primer_valor, segundo_valor, la_suma_de_los_valores] \n",
    "Presente el resultado en la terminal del  editor.\n"
   ]
  },
  {
   "cell_type": "code",
   "execution_count": 11,
   "metadata": {},
   "outputs": [],
   "source": [
    "def suma():\n",
    "    value_1 = int(input(\"ingrese el primer valor: \"))\n",
    "    value_2 = int(input(\"ingrese el segundo valor: \"))\n",
    "    lista = [value_1, value_2, value_2 + value_1]\n",
    "    return lista\n",
    "\n"
   ]
  },
  {
   "cell_type": "code",
   "execution_count": 12,
   "metadata": {},
   "outputs": [
    {
     "name": "stdout",
     "output_type": "stream",
     "text": [
      "[5, 4, 9]\n"
     ]
    }
   ],
   "source": [
    "print(suma())"
   ]
  },
  {
   "attachments": {},
   "cell_type": "markdown",
   "metadata": {},
   "source": [
    "Ejercicio 4\n",
    "Realice un programa que consulte la edad y en caso de que el valor ingresado supere la\n",
    "fecha de jubilación, presente en la terminal el mensaje \" Ya esta en edad de jubilarse\" en\n",
    "caso contrario que presente “Aún está en edad de trabajar” \n",
    "\n",
    "\n"
   ]
  },
  {
   "cell_type": "code",
   "execution_count": 14,
   "metadata": {},
   "outputs": [],
   "source": [
    "def edad_jubilatoria():\n",
    "    edad = int(input(\"Por favor, ingrese su edad\"))\n",
    "\n",
    "    if edad >= 65:\n",
    "        print(\"Usted esta en edad de jubilarse.\")\n",
    "    else:\n",
    "        print(\"Usted no se encuentra en edad de jubilarse.\") "
   ]
  },
  {
   "cell_type": "code",
   "execution_count": 15,
   "metadata": {},
   "outputs": [
    {
     "name": "stdout",
     "output_type": "stream",
     "text": [
      "Usted esta en edad de jubilarse.\n"
     ]
    }
   ],
   "source": [
    "edad_jubilatoria()"
   ]
  },
  {
   "attachments": {},
   "cell_type": "markdown",
   "metadata": {},
   "source": [
    "Ejercicio 5\n",
    "Realice nuevamente los ejercicios de la unidad 1 (3, 4 y 5), pero tratando de utilizar una\n",
    "función, de forma que la operación se realice dentro de la misma.\n",
    "Presente el resultado en la terminal del editor.\n",
    "\n"
   ]
  }
 ],
 "metadata": {
  "kernelspec": {
   "display_name": ".venv",
   "language": "python",
   "name": "python3"
  },
  "language_info": {
   "codemirror_mode": {
    "name": "ipython",
    "version": 3
   },
   "file_extension": ".py",
   "mimetype": "text/x-python",
   "name": "python",
   "nbconvert_exporter": "python",
   "pygments_lexer": "ipython3",
   "version": "3.10.9"
  },
  "orig_nbformat": 4
 },
 "nbformat": 4,
 "nbformat_minor": 2
}
