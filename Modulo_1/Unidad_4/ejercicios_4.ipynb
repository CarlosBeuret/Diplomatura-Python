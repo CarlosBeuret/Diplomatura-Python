{
 "cells": [
  {
   "attachments": {},
   "cell_type": "markdown",
   "metadata": {},
   "source": [
    "Ejercicio 1 – Dificultad baja\n",
    "Cree una función lamba que compruebe si un número es par o impar."
   ]
  },
  {
   "cell_type": "code",
   "execution_count": 5,
   "metadata": {},
   "outputs": [
    {
     "data": {
      "text/plain": [
       "'El numero es par'"
      ]
     },
     "execution_count": 5,
     "metadata": {},
     "output_type": "execute_result"
    }
   ],
   "source": [
    "func = lambda x :\"El numero es par\" if x %2 == 0 else \"El numero es impar\"\n",
    "\n",
    "func(int(input(\"ingrese el numero: \")))"
   ]
  },
  {
   "attachments": {},
   "cell_type": "markdown",
   "metadata": {},
   "source": [
    "Ejercicio 2 – Dificultad media\n",
    "\n",
    "Crear una función lambda que sea equivalente a la siguiente función:\n",
    "\n",
    "def multiplicar_por_tres(valor):\n",
    "\n",
    " res = 3 * valor\n",
    "\n",
    " return res \n"
   ]
  },
  {
   "cell_type": "code",
   "execution_count": 6,
   "metadata": {},
   "outputs": [
    {
     "data": {
      "text/plain": [
       "15"
      ]
     },
     "execution_count": 6,
     "metadata": {},
     "output_type": "execute_result"
    }
   ],
   "source": [
    "func = lambda x : x * 3\n",
    "\n",
    "func(int(input(\"Por favor ingrese un numero: \")))"
   ]
  },
  {
   "attachments": {},
   "cell_type": "markdown",
   "metadata": {},
   "source": [
    "Ejercicio 3 – Dificultad media\n",
    "Crear una función lambda que sea equivalente a la\n",
    "\n",
    "\n",
    "def sumar(valor1, valor2):\n",
    "\n",
    "\n",
    " res = valor1 + valor2\n",
    "\n",
    " \n",
    " return res"
   ]
  },
  {
   "cell_type": "code",
   "execution_count": 7,
   "metadata": {},
   "outputs": [
    {
     "data": {
      "text/plain": [
       "13"
      ]
     },
     "execution_count": 7,
     "metadata": {},
     "output_type": "execute_result"
    }
   ],
   "source": [
    "valor1 = 5\n",
    "valor2 = 8\n",
    "func =lambda x1,x2: x1+ x2 \n",
    "func(valor1, valor2)"
   ]
  },
  {
   "attachments": {},
   "cell_type": "markdown",
   "metadata": {},
   "source": [
    "Ejercicio 4 – Dificultad alta\n",
    "Crear una función lambda que tome como parámetro una frase y la escriba al revés."
   ]
  },
  {
   "cell_type": "code",
   "execution_count": 8,
   "metadata": {},
   "outputs": [
    {
     "data": {
      "text/plain": [
       "'?satse omoc sloh'"
      ]
     },
     "execution_count": 8,
     "metadata": {},
     "output_type": "execute_result"
    }
   ],
   "source": [
    "frase = input(\"Por favor ingrese una frase: \")\n",
    "\n",
    "func = lambda x: x[::-1]\n",
    "func(frase)"
   ]
  },
  {
   "attachments": {},
   "cell_type": "markdown",
   "metadata": {},
   "source": [
    "Ejercicio 5 – Dificultad media\n",
    "\n",
    "Cree un programa que utilizando una función, solicite la edad de la persona e imprima todos los años que la persona ha \n",
    "cumplido según el siguiente formato de ejemplo.\n",
    "\n",
    "1, 2, 3, 4, 5\n",
    "\n",
    "Y\n",
    "\n",
    "5, 4, 3, 2, 1"
   ]
  },
  {
   "cell_type": "code",
   "execution_count": 2,
   "metadata": {},
   "outputs": [
    {
     "name": "stdout",
     "output_type": "stream",
     "text": [
      "1\n",
      "2\n",
      "3\n",
      "4\n",
      "5\n",
      "6\n",
      "7\n",
      "8\n",
      "9\n",
      "10\n",
      "10\n",
      "9\n",
      "8\n",
      "7\n",
      "6\n",
      "5\n",
      "4\n",
      "3\n",
      "2\n",
      "1\n"
     ]
    }
   ],
   "source": [
    "def reverse(x):\n",
    "    for i in range(x):\n",
    "        print(i+1)\n",
    "    for i in range(x, 0, -1):\n",
    "        print(i)\n",
    "\n",
    "edad= int(input(\"Por favor ingrese edad: \"))\n",
    "reverse(edad)"
   ]
  },
  {
   "attachments": {},
   "cell_type": "markdown",
   "metadata": {},
   "source": [
    "Ejercicio 6 – Dificultad alta\n",
    "\n",
    "Cree una función que tome la siguiente lista y reordene de menor a mayor sus componentes:\n",
    "\n",
    "[3, 44, 21, 78, 5, 56, 9]"
   ]
  },
  {
   "cell_type": "code",
   "execution_count": null,
   "metadata": {},
   "outputs": [],
   "source": [
    "def ordenamiento(x:list):\n",
    "    cambio = True\n",
    "    while cambio:\n",
    "        cambio = False\n",
    "        for i in range(len(x)-1):\n",
    "            if x[i] > x[i+1]:\n",
    "                x[i],x[i+1]=x[i+1],x[i]\n",
    "                cambio = True\n",
    "    return x\n",
    "\n",
    "lista = [3,44,21,78,5,56,9]\n",
    "\n",
    "print(ordenamiento(lista))\n",
    "\n",
    "#lista.sort()"
   ]
  },
  {
   "attachments": {},
   "cell_type": "markdown",
   "metadata": {},
   "source": [
    "Ejercicio 7 – Dificultad muy alta\n",
    "\n",
    "isinstance(x, list) permite consultar si el elementos x es del tipo lista.\n",
    "\n",
    "A partir de la siguiente función recursiva que permite los niveles de una lista:\n",
    "\n",
    "lista = [\"elemento1n1\", \"elemento2n1\", \"elemento3n1\",\n",
    "\n",
    "[\"elemento1n2\", \"elemento2n2\", \"elemento3n2\",\n",
    "\n",
    "[\"elemento1n3\", \"elemento2n3\", \"elemento3n3\"]]]\n",
    "\n",
    "def recorre_lista(item):\n",
    "\n",
    "    for x in item:\n",
    "\n",
    "        if isinstance(x, list):\n",
    "\n",
    "            recorrer_lista(x)\n",
    "\n",
    "    else:\n",
    "\n",
    "        print(x)\n",
    "\n",
    "recorrer_lista(lista)\n",
    "\n",
    "Optimice el código de forma que el programa considere:\n",
    "\n",
    "Un valor de lista por defecto\n",
    "\n",
    "Permita tomar un segundo parámetro que lleve un registro del nivel en el cual se encuentra (en qué grado del anidamiento) \n",
    "\n",
    "Permita tomar un valor por defecto de cero para el parámetro anterior.  Presente la salida según el siguiente formato:\n",
    "\n",
    "elemento1n1\n",
    "\n",
    "elemento2n1\n",
    "\n",
    "elemento3n1\n",
    "\n",
    "    elemento1n2\n",
    "\n",
    "    elemento2n2\n",
    "\n",
    "    elemento3n2\n",
    "\n",
    "        elemento1n3\n",
    "\n",
    "        elemento2n3 \n",
    "\n",
    "        elemento3n3"
   ]
  },
  {
   "cell_type": "code",
   "execution_count": 15,
   "metadata": {},
   "outputs": [
    {
     "name": "stdout",
     "output_type": "stream",
     "text": [
      " 1\n",
      " 2\n",
      " 3\n",
      "\t 5\n",
      "\t 6\n",
      "\t 7\n",
      "\t\t 7\n",
      "\t\t 8\n",
      "\t\t 9\n"
     ]
    }
   ],
   "source": [
    "lista = [\n",
    "    \"elemento1n1\",\n",
    "    \"elemento2n1\",\n",
    "    \"elemento3n1\",\n",
    "    [\n",
    "        \"elemento1n2\",\n",
    "        \"elemento2n2\",\n",
    "        \"elemento3n2\",\n",
    "        [\n",
    "            \"elemento1n3\",\n",
    "            \"elemento2n3\",\n",
    "            \"elemento3n3\",\n",
    "        ],\n",
    "    ],\n",
    "]\n",
    "def recorre_lista(item =[1,2,3,[5,6,7,[7,8,9]]], nivel= 0):\n",
    "    for x in item:\n",
    "        if isinstance(x, list):\n",
    "            recorre_lista(x, nivel = nivel + 1)\n",
    "        else:\n",
    "            print(\"\\t\" * nivel, x)\n",
    "recorre_lista()"
   ]
  }
 ],
 "metadata": {
  "kernelspec": {
   "display_name": ".venv",
   "language": "python",
   "name": "python3"
  },
  "language_info": {
   "codemirror_mode": {
    "name": "ipython",
    "version": 3
   },
   "file_extension": ".py",
   "mimetype": "text/x-python",
   "name": "python",
   "nbconvert_exporter": "python",
   "pygments_lexer": "ipython3",
   "version": "3.10.9"
  },
  "orig_nbformat": 4
 },
 "nbformat": 4,
 "nbformat_minor": 2
}
